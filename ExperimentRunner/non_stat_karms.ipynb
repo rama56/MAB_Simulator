{
 "cells": [
  {
   "cell_type": "code",
   "execution_count": 1,
   "metadata": {},
   "outputs": [
    {
     "ename": "ModuleNotFoundError",
     "evalue": "No module named 'BanditInstance'",
     "output_type": "error",
     "traceback": [
      "\u001b[0;31m---------------------------------------------------------------------------\u001b[0m",
      "\u001b[0;31mModuleNotFoundError\u001b[0m                       Traceback (most recent call last)",
      "Cell \u001b[0;32mIn[1], line 1\u001b[0m\n\u001b[0;32m----> 1\u001b[0m \u001b[38;5;28;01mimport\u001b[39;00m \u001b[38;5;21;01mrun_slowly_varying_bandits\u001b[39;00m\n",
      "File \u001b[0;32m~/Documents/Other/PycharmProjects/MAB_Simulations/ExperimentRunner/run_slowly_varying_bandits.py:9\u001b[0m\n\u001b[1;32m      6\u001b[0m \u001b[39mimport\u001b[39;00m \u001b[39mmath\u001b[39;00m\n\u001b[1;32m      7\u001b[0m \u001b[39mimport\u001b[39;00m \u001b[39mnumpy\u001b[39;00m \u001b[39mas\u001b[39;00m \u001b[39mnp\u001b[39;00m\n\u001b[0;32m----> 9\u001b[0m \u001b[39mfrom\u001b[39;00m \u001b[39mBanditInstance\u001b[39;00m\u001b[39m.\u001b[39;00m\u001b[39mmulti_armed_bandit\u001b[39;00m \u001b[39mimport\u001b[39;00m MultiArmedBandit\n\u001b[1;32m     10\u001b[0m \u001b[39mfrom\u001b[39;00m \u001b[39mBanditInstance\u001b[39;00m\u001b[39m.\u001b[39;00m\u001b[39mslowly_varying_mab\u001b[39;00m \u001b[39mimport\u001b[39;00m SlowlyVaryingBandits\n\u001b[1;32m     11\u001b[0m \u001b[39mfrom\u001b[39;00m \u001b[39mHelpers\u001b[39;00m\u001b[39m.\u001b[39;00m\u001b[39mplot_helper\u001b[39;00m \u001b[39mimport\u001b[39;00m PlotHelper\n",
      "\u001b[0;31mModuleNotFoundError\u001b[0m: No module named 'BanditInstance'"
     ]
    }
   ],
   "source": [
    "import run_slowly_varying_bandits"
   ]
  },
  {
   "cell_type": "code",
   "execution_count": 22,
   "metadata": {},
   "outputs": [
    {
     "ename": "ModuleNotFoundError",
     "evalue": "No module named 'BanditInstance'",
     "output_type": "error",
     "traceback": [
      "\u001b[0;31m---------------------------------------------------------------------------\u001b[0m",
      "\u001b[0;31mModuleNotFoundError\u001b[0m                       Traceback (most recent call last)",
      "Cell \u001b[0;32mIn[22], line 2\u001b[0m\n\u001b[1;32m      1\u001b[0m \u001b[38;5;66;03m# from BanditInstance.multi_armed_bandit import MultiArmedBandit\u001b[39;00m\n\u001b[0;32m----> 2\u001b[0m \u001b[38;5;28;01mimport\u001b[39;00m \u001b[38;5;21;01mBanditInstance\u001b[39;00m\n",
      "\u001b[0;31mModuleNotFoundError\u001b[0m: No module named 'BanditInstance'"
     ]
    }
   ],
   "source": [
    "# from BanditInstance.multi_armed_bandit import MultiArmedBandit\n",
    "import BanditInstance"
   ]
  },
  {
   "cell_type": "code",
   "execution_count": 5,
   "metadata": {},
   "outputs": [
    {
     "ename": "ImportError",
     "evalue": "attempted relative import with no known parent package",
     "output_type": "error",
     "traceback": [
      "\u001b[0;31m---------------------------------------------------------------------------\u001b[0m",
      "\u001b[0;31mImportError\u001b[0m                               Traceback (most recent call last)",
      "Cell \u001b[0;32mIn[5], line 1\u001b[0m\n\u001b[0;32m----> 1\u001b[0m \u001b[38;5;28;01mfrom\u001b[39;00m \u001b[38;5;21;01m.\u001b[39;00m\u001b[38;5;21;01m.\u001b[39;00m\u001b[38;5;21;01mBanditInstance\u001b[39;00m\u001b[38;5;21;01m.\u001b[39;00m\u001b[38;5;21;01mmulti_armed_bandit\u001b[39;00m \u001b[38;5;28;01mimport\u001b[39;00m MultiArmedBandit\n",
      "\u001b[0;31mImportError\u001b[0m: attempted relative import with no known parent package"
     ]
    }
   ],
   "source": [
    "from ..BanditInstance.multi_armed_bandit import MultiArmedBandit"
   ]
  },
  {
   "cell_type": "code",
   "execution_count": 3,
   "metadata": {},
   "outputs": [
    {
     "name": "stdout",
     "output_type": "stream",
     "text": [
      "env: PYTHONPATH=/Users/ramakrishnank/Documents/Other/PycharmProjects/MAB_Simulations/\n"
     ]
    },
    {
     "data": {
      "text/plain": [
       "'/Users/ramakrishnank/Documents/Other/PycharmProjects/MAB_Simulations/'"
      ]
     },
     "execution_count": 3,
     "metadata": {},
     "output_type": "execute_result"
    }
   ],
   "source": [
    "%env PYTHONPATH=/Users/ramakrishnank/Documents/Other/PycharmProjects/MAB_Simulations/\n",
    "%env PYTHONPATH\n",
    "# %env"
   ]
  }
 ],
 "metadata": {
  "kernelspec": {
   "display_name": "Python 3.11.3",
   "language": "python",
   "name": "python3"
  },
  "language_info": {
   "codemirror_mode": {
    "name": "ipython",
    "version": 3
   },
   "file_extension": ".py",
   "mimetype": "text/x-python",
   "name": "python",
   "nbconvert_exporter": "python",
   "pygments_lexer": "ipython3",
   "version": "3.11.3"
  },
  "orig_nbformat": 4,
  "vscode": {
   "interpreter": {
    "hash": "633cf8fdc4854a618030fc07bc40512dc2254d61fe909459a2b7067d26cb04ed"
   }
  }
 },
 "nbformat": 4,
 "nbformat_minor": 2
}
